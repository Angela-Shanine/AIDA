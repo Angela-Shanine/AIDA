{
  "nbformat": 4,
  "nbformat_minor": 0,
  "metadata": {
    "colab": {
      "name": "AIDA 58025 Lopez - Revisiting Python.ipynb",
      "provenance": [],
      "authorship_tag": "ABX9TyMCXa8Y0gnJUWEnr5ogH09m",
      "include_colab_link": true
    },
    "kernelspec": {
      "name": "python3",
      "display_name": "Python 3"
    }
  },
  "cells": [
    {
      "cell_type": "markdown",
      "metadata": {
        "id": "view-in-github",
        "colab_type": "text"
      },
      "source": [
        "<a href=\"https://colab.research.google.com/github/dyjdlopez/AIDA/blob/main/week%201/AIDA_58025_Lopez_Revisiting_Python.ipynb\" target=\"_parent\"><img src=\"https://colab.research.google.com/assets/colab-badge.svg\" alt=\"Open In Colab\"/></a>"
      ]
    },
    {
      "cell_type": "markdown",
      "metadata": {
        "id": "8npAaSY-7Xlw"
      },
      "source": [
        "# Revisiting Python\r\n",
        "© D.J. Lopez (2021)\r\n",
        "\r\n",
        "This notebook discusses the basic and intermediate Python coding principles and coding design."
      ]
    },
    {
      "cell_type": "markdown",
      "metadata": {
        "id": "naDObTU879sc"
      },
      "source": [
        "## Part 1: Programming Logic and Design\r\n",
        "\r\n",
        "In this section, we will revisit Programming Logic and Design using the Python language.\r\n",
        "![image](https://www.python.org/static/community_logos/python-logo-inkscape.svg)\r\n",
        "\r\n",
        "Discussions about Python"
      ]
    },
    {
      "cell_type": "markdown",
      "metadata": {
        "id": "HJo83aeI8s53"
      },
      "source": [
        "### 1.1 Variables and Printing Values"
      ]
    },
    {
      "cell_type": "code",
      "metadata": {
        "colab": {
          "base_uri": "https://localhost:8080/"
        },
        "id": "NYxaskna5yBj",
        "outputId": "c625e869-a27c-4e8d-c160-68946b8dc89e"
      },
      "source": [
        "# This is a C++ line of code\r\n",
        "# int x = 2;\r\n",
        "# cout<<x;\r\n",
        "# Now this is a Python line of code\r\n",
        "x = 2\r\n",
        "# print(x)\r\n",
        "# print(type(x))\r\n",
        "# print(\"The data type of x is\",type(x),\"and its value is\",x,\".\")\r\n",
        "# print(f\"The data type of x is {type(x)} and its value is {x}.\")\r\n",
        "print(\"The data type of x is {} and its value is {}.\".format(type(x),x))"
      ],
      "execution_count": null,
      "outputs": [
        {
          "output_type": "stream",
          "text": [
            "The data type of x is <class 'int'> and its value is 2.\n"
          ],
          "name": "stdout"
        }
      ]
    },
    {
      "cell_type": "markdown",
      "metadata": {
        "id": "jKYU0a6q8E5g"
      },
      "source": [
        "## Part 2: Object-Oriented Programming"
      ]
    },
    {
      "cell_type": "code",
      "metadata": {
        "id": "FJpb40gK8L-l"
      },
      "source": [
        ""
      ],
      "execution_count": null,
      "outputs": []
    },
    {
      "cell_type": "markdown",
      "metadata": {
        "id": "gjNcvp4L8MqH"
      },
      "source": [
        "## Part 3: Data Structures and Algorithms"
      ]
    },
    {
      "cell_type": "code",
      "metadata": {
        "id": "FGEOj_E08QSv"
      },
      "source": [
        ""
      ],
      "execution_count": null,
      "outputs": []
    }
  ]
}